{
 "cells": [
  {
   "cell_type": "code",
   "execution_count": 7,
   "id": "southwest-coordinator",
   "metadata": {},
   "outputs": [],
   "source": [
    "import matplotlib.pyplot as plt\n",
    "import csv\n",
    "import datetime\n",
    "import calendar"
   ]
  },
  {
   "cell_type": "code",
   "execution_count": 8,
   "id": "vocational-collapse",
   "metadata": {},
   "outputs": [],
   "source": [
    "with open('netflix_titles','r') as datafile:\n",
    "    netflix_titles = csv.DictReader(datafile)\n",
    "    data_list = []\n",
    "    \n",
    "    for row in netflix_titles:\n",
    "        data_list.append(row)"
   ]
  },
  {
   "cell_type": "code",
   "execution_count": 21,
   "id": "metropolitan-donna",
   "metadata": {},
   "outputs": [
    {
     "data": {
      "text/plain": [
       "{'show_id': '80117401',\n",
       " 'type': 'Movie',\n",
       " 'title': 'Jandino: Whatever it Takes',\n",
       " 'director': '',\n",
       " 'cast': 'Jandino Asporaat',\n",
       " 'country': 'United Kingdom',\n",
       " 'date_added': 'September 9, 2016',\n",
       " 'release_year': '2016',\n",
       " 'rating': 'TV-MA',\n",
       " 'duration': '94 min',\n",
       " 'listed_in': 'Stand-Up Comedy',\n",
       " 'description': 'Jandino Asporaat riffs on the challenges of raising kids and serenades the audience with a rousing rendition of \"Sex on Fire\" in his comedy show.'}"
      ]
     },
     "execution_count": 21,
     "metadata": {},
     "output_type": "execute_result"
    }
   ],
   "source": [
    "data_list[1]"
   ]
  },
  {
   "cell_type": "code",
   "execution_count": 25,
   "id": "indian-routine",
   "metadata": {},
   "outputs": [
    {
     "ename": "KeyError",
     "evalue": "'release_year'",
     "output_type": "error",
     "traceback": [
      "\u001b[0;31m---------------------------------------------------------------------------\u001b[0m",
      "\u001b[0;31mKeyError\u001b[0m                                  Traceback (most recent call last)",
      "\u001b[0;32m<ipython-input-25-f0271c7d923b>\u001b[0m in \u001b[0;36m<module>\u001b[0;34m\u001b[0m\n\u001b[1;32m      8\u001b[0m         \u001b[0;34m'cumulative movies'\u001b[0m\u001b[0;34m:\u001b[0m\u001b[0mitem\u001b[0m\u001b[0;34m[\u001b[0m\u001b[0;34m'rating'\u001b[0m\u001b[0;34m]\u001b[0m\u001b[0;34m\u001b[0m\u001b[0;34m\u001b[0m\u001b[0m\n\u001b[1;32m      9\u001b[0m     }\n\u001b[0;32m---> 10\u001b[0;31m     \u001b[0mtv_data\u001b[0m\u001b[0;34m[\u001b[0m\u001b[0;34m'release_year'\u001b[0m\u001b[0;34m]\u001b[0m\u001b[0;34m.\u001b[0m\u001b[0mappend\u001b[0m\u001b[0;34m(\u001b[0m\u001b[0mentry\u001b[0m\u001b[0;34m)\u001b[0m\u001b[0;34m\u001b[0m\u001b[0;34m\u001b[0m\u001b[0m\n\u001b[0m\u001b[1;32m     11\u001b[0m \u001b[0;34m\u001b[0m\u001b[0m\n\u001b[1;32m     12\u001b[0m \u001b[0mtv_data\u001b[0m\u001b[0;34m\u001b[0m\u001b[0;34m\u001b[0m\u001b[0m\n",
      "\u001b[0;31mKeyError\u001b[0m: 'release_year'"
     ]
    }
   ],
   "source": [
    "tv_data = {}\n",
    "years = ['2011','2012','2013','2014','2015','2016','2017','2018','2019','2020']\n",
    "\n",
    "for item in data_list:\n",
    "    #month, day, year = tuple(item['date_added'].split(' '))\n",
    "    if item['type'] == 'Movie' and item['release_year'] in years:\n",
    "        entry = {\n",
    "        'cumulative movies':item['rating']\n",
    "    }\n",
    "    tv_data['release_year'].append(entry)\n",
    "\n",
    "tv_data"
   ]
  },
  {
   "cell_type": "code",
   "execution_count": null,
   "id": "painful-montgomery",
   "metadata": {},
   "outputs": [],
   "source": [
    "plt.title('')\n",
    "plt.xlabel('')\n",
    "plt.ylabel('')\n",
    "\n",
    "x = []\n",
    "\n",
    "y = []\n",
    "\n",
    "plt.plot(x,y)"
   ]
  }
 ],
 "metadata": {
  "kernelspec": {
   "display_name": "netflix",
   "language": "python",
   "name": "netflix"
  },
  "language_info": {
   "codemirror_mode": {
    "name": "ipython",
    "version": 3
   },
   "file_extension": ".py",
   "mimetype": "text/x-python",
   "name": "python",
   "nbconvert_exporter": "python",
   "pygments_lexer": "ipython3",
   "version": "3.9.1"
  }
 },
 "nbformat": 4,
 "nbformat_minor": 5
}
